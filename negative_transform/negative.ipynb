{
 "cells": [
  {
   "cell_type": "code",
   "execution_count": 1,
   "id": "a4f7d1c9",
   "metadata": {},
   "outputs": [],
   "source": [
    "import cv2"
   ]
  },
  {
   "cell_type": "code",
   "execution_count": 2,
   "id": "98c66ffe",
   "metadata": {},
   "outputs": [],
   "source": [
    "img= cv2.imread('balik.jpg')"
   ]
  },
  {
   "cell_type": "code",
   "execution_count": 18,
   "id": "812ece56",
   "metadata": {},
   "outputs": [
    {
     "name": "stdout",
     "output_type": "stream",
     "text": [
      "img_shape (478, 850, 3)\n",
      "height: 478 , width: 850 , dimension: 3\n"
     ]
    }
   ],
   "source": [
    "height, width, dimension= img.shape\n",
    "print(\"img_shape\",img.shape)\n",
    "print(\"height:\",height,\", width:\",width,\", dimension:\",dimension)"
   ]
  },
  {
   "cell_type": "code",
   "execution_count": 19,
   "id": "a3ae78be",
   "metadata": {},
   "outputs": [],
   "source": [
    "for i in range(0,  height-1):\n",
    "    for j in range(0, width-1):\n",
    "        channel= img[i,j]\n",
    "        channel[0]=255-channel[0]    # red channel\n",
    "        channel[1]=255-channel[1]\n",
    "        channel[2]=255-channel[2]\n",
    "        \n",
    "        img[i,j]= channel"
   ]
  },
  {
   "cell_type": "code",
   "execution_count": 21,
   "id": "a2424efe",
   "metadata": {},
   "outputs": [
    {
     "data": {
      "text/plain": [
       "True"
      ]
     },
     "execution_count": 21,
     "metadata": {},
     "output_type": "execute_result"
    }
   ],
   "source": [
    "cv2.imwrite('negative_image.jpg',img)"
   ]
  }
 ],
 "metadata": {
  "kernelspec": {
   "display_name": "Python 3 (ipykernel)",
   "language": "python",
   "name": "python3"
  },
  "language_info": {
   "codemirror_mode": {
    "name": "ipython",
    "version": 3
   },
   "file_extension": ".py",
   "mimetype": "text/x-python",
   "name": "python",
   "nbconvert_exporter": "python",
   "pygments_lexer": "ipython3",
   "version": "3.9.7"
  }
 },
 "nbformat": 4,
 "nbformat_minor": 5
}
