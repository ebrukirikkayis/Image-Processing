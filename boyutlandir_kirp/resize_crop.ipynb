{
 "cells": [
  {
   "cell_type": "code",
   "execution_count": 3,
   "id": "5876f9ad",
   "metadata": {},
   "outputs": [
    {
     "name": "stdout",
     "output_type": "stream",
     "text": [
      "Resim Boyutu:  (512, 512, 3)\n"
     ]
    }
   ],
   "source": [
    "import cv2\n",
    "img= cv2.imread(\"lenna.png\")\n",
    "print(\"Resim Boyutu: \", img.shape)\n"
   ]
  },
  {
   "cell_type": "code",
   "execution_count": null,
   "id": "db6ddce4",
   "metadata": {},
   "outputs": [],
   "source": [
    "cv2.imshow(\"Original\",img)"
   ]
  },
  {
   "cell_type": "markdown",
   "id": "4c99f353",
   "metadata": {},
   "source": [
    "512x512 pixele sahip olan bu resim, RGB olduğundan dolayı 3 olarak belirtilmiştir."
   ]
  },
  {
   "cell_type": "code",
   "execution_count": 4,
   "id": "8ab15f3d",
   "metadata": {},
   "outputs": [
    {
     "name": "stdout",
     "output_type": "stream",
     "text": [
      "Resized img shape:  (800, 800, 3)\n"
     ]
    }
   ],
   "source": [
    "imgResized= cv2.resize(img,(800,800))\n",
    "print(\"Resized img shape: \",imgResized.shape)"
   ]
  },
  {
   "cell_type": "code",
   "execution_count": null,
   "id": "3d44d43f",
   "metadata": {},
   "outputs": [],
   "source": [
    "cv2.imshow(\"Original\",imgResized)"
   ]
  },
  {
   "cell_type": "code",
   "execution_count": 5,
   "id": "72487415",
   "metadata": {},
   "outputs": [],
   "source": [
    "imgCropped= img[:200,:300]\n",
    "# y ekseninden 0'dan 200'e kadar, x ekseninde 0'dan 300.pixele kadar gidiyoruz.\n",
    "# y ekseni yükseklik, x ekseni genişlik olmuş oluyor \n",
    "# normalde bu değerler x-y şekilinde olmalıyken opencv'De y-x şeklindedir."
   ]
  },
  {
   "cell_type": "code",
   "execution_count": 6,
   "id": "b75208fc",
   "metadata": {},
   "outputs": [],
   "source": [
    "cv2.imshow(\"kirpik resim\",imgCropped)"
   ]
  },
  {
   "cell_type": "code",
   "execution_count": null,
   "id": "dd6fd007",
   "metadata": {},
   "outputs": [],
   "source": []
  }
 ],
 "metadata": {
  "kernelspec": {
   "display_name": "Python 3 (ipykernel)",
   "language": "python",
   "name": "python3"
  },
  "language_info": {
   "codemirror_mode": {
    "name": "ipython",
    "version": 3
   },
   "file_extension": ".py",
   "mimetype": "text/x-python",
   "name": "python",
   "nbconvert_exporter": "python",
   "pygments_lexer": "ipython3",
   "version": "3.9.7"
  }
 },
 "nbformat": 4,
 "nbformat_minor": 5
}
