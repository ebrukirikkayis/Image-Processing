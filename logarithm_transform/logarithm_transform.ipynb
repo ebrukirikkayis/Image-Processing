{
 "cells": [
  {
   "cell_type": "code",
   "execution_count": 1,
   "id": "d5e9fe63",
   "metadata": {},
   "outputs": [],
   "source": [
    "import cv2\n",
    "import numpy as np"
   ]
  },
  {
   "cell_type": "code",
   "execution_count": 4,
   "id": "26ab7582",
   "metadata": {},
   "outputs": [
    {
     "name": "stderr",
     "output_type": "stream",
     "text": [
      "C:\\Users\\EBRU\\AppData\\Local\\Temp/ipykernel_3064/10839365.py:5: RuntimeWarning: divide by zero encountered in log\n",
      "  log_transform= c*np.log(1+img)\n"
     ]
    },
    {
     "data": {
      "text/plain": [
       "True"
      ]
     },
     "execution_count": 4,
     "metadata": {},
     "output_type": "execute_result"
    }
   ],
   "source": [
    "img= cv2.imread('delta.jpg')\n",
    "\n",
    "# log dönüşümü\n",
    "c= 255/(np.log(1+np.max(img)))\n",
    "log_transform= c*np.log(1+img)\n",
    "\n",
    "# veri tipi\n",
    "log_transform= np.array(log_transform, dtype= np.uint8)\n",
    "\n",
    "cv2.imwrite('log_transform.jpg',log_transform)"
   ]
  },
  {
   "cell_type": "code",
   "execution_count": 6,
   "id": "39d2b5d5",
   "metadata": {},
   "outputs": [
    {
     "name": "stderr",
     "output_type": "stream",
     "text": [
      "C:\\Users\\EBRU\\AppData\\Local\\Temp/ipykernel_3064/87824500.py:4: RuntimeWarning: divide by zero encountered in log\n",
      "  log_transform_gray= c*np.log(1+img)\n"
     ]
    },
    {
     "data": {
      "text/plain": [
       "True"
      ]
     },
     "execution_count": 6,
     "metadata": {},
     "output_type": "execute_result"
    }
   ],
   "source": [
    "img= cv2.imread('delta.jpg',0) # siyah-beyaz görüntüsü olarak da deniyelim.\n",
    "cv2.imwrite('fish_gray.jpg',img)\n",
    "c= 255/(np.log(1+np.max(img)))\n",
    "log_transform_gray= c*np.log(1+img)\n",
    "log_transform_gray= np.array(log_transform_gray, dtype= np.uint8)\n",
    "\n",
    "cv2.imwrite('log_transform_gray.jpg',log_transform_gray)"
   ]
  }
 ],
 "metadata": {
  "kernelspec": {
   "display_name": "Python 3 (ipykernel)",
   "language": "python",
   "name": "python3"
  },
  "language_info": {
   "codemirror_mode": {
    "name": "ipython",
    "version": 3
   },
   "file_extension": ".py",
   "mimetype": "text/x-python",
   "name": "python",
   "nbconvert_exporter": "python",
   "pygments_lexer": "ipython3",
   "version": "3.9.7"
  }
 },
 "nbformat": 4,
 "nbformat_minor": 5
}
