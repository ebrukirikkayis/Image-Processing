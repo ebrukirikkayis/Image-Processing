{
 "cells": [
  {
   "cell_type": "code",
   "execution_count": 1,
   "id": "e5d514e1",
   "metadata": {},
   "outputs": [
    {
     "name": "stdout",
     "output_type": "stream",
     "text": [
      "640 480\n"
     ]
    }
   ],
   "source": [
    "import cv2\n",
    "#capture metodu kullanılacak\n",
    "cap= cv2.VideoCapture(0) # parametre olarak kullanılan kameranın numarası verilemktedir. Bilgisayar bağlanan bir kamera varsa buranın 0 olması gerekir. Laptop kamerası ise yine 0 veya 1 olarak laptop kamerası numarası girilir.\n",
    "width= int(cap.get(cv2.CAP_PROP_FRAME_WIDTH))    # frame genişliği yani resim genişliği alınır, cap get metodunun içine atandı ve sonrasında int olarak değerlendirildi.\n",
    "height= int(cap.get(cv2.CAP_PROP_FRAME_HEIGHT))\n",
    "print(width,height)"
   ]
  },
  {
   "cell_type": "markdown",
   "id": "18515b26",
   "metadata": {},
   "source": [
    "640x480 adet pixel bulunmaktaymış."
   ]
  },
  {
   "cell_type": "code",
   "execution_count": 2,
   "id": "2773a582",
   "metadata": {},
   "outputs": [
    {
     "data": {
      "text/plain": [
       "307200"
      ]
     },
     "execution_count": 2,
     "metadata": {},
     "output_type": "execute_result"
    }
   ],
   "source": [
    "640*480"
   ]
  },
  {
   "cell_type": "code",
   "execution_count": 3,
   "id": "1a2cc20e",
   "metadata": {},
   "outputs": [],
   "source": [
    "# video kaydedici oluşturalım, yukarıdaki kod ile frame'ler okunurken video burada eş zamanlı kaydedilecek.\n",
    "writer= cv2.VideoWriter(\"video_kaydi.mp4\", cv2.VideoWriter_fourcc(*\"DIVX\"),20,(width, height))  # fourcc windowsta çerçeveleri sıkıştırmak için kullanılan dört karakterli codec kodudur. İçerisine de windowsta DIVX konulur.\n",
    "# buradaki 20 frame per second yani her saniyede göreceğimiz resim sayısını belirler. Son olarak resmin yüksekliğini ve genişliğini yazarız."
   ]
  },
  {
   "cell_type": "code",
   "execution_count": 4,
   "id": "dae6449e",
   "metadata": {},
   "outputs": [],
   "source": [
    "while True:\n",
    "    ret, frame= cap.read()   # resimler frame'e, frame'e resim gelip gelmediğinin bilgisi de ret'e aktarılır. \n",
    "    cv2.imshow(\"video\",frame)\n",
    "    \n",
    "    # save\n",
    "    writer.write(frame)\n",
    "    \n",
    "    if cv2.waitKey(1) & 0xFF == ord(\"q\"): break   # q'ya basılırsa videoyu kapatsın\n",
    "        \n",
    "cap.release()       # video çekme bırakılsın\n",
    "writer.release()    # kaydetme bırakılsın\n",
    "cv2.destroyAllWindows()   # açık pencereler kapatılsın."
   ]
  }
 ],
 "metadata": {
  "kernelspec": {
   "display_name": "Python 3 (ipykernel)",
   "language": "python",
   "name": "python3"
  },
  "language_info": {
   "codemirror_mode": {
    "name": "ipython",
    "version": 3
   },
   "file_extension": ".py",
   "mimetype": "text/x-python",
   "name": "python",
   "nbconvert_exporter": "python",
   "pygments_lexer": "ipython3",
   "version": "3.9.7"
  }
 },
 "nbformat": 4,
 "nbformat_minor": 5
}
