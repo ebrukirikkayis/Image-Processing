{
 "cells": [
  {
   "cell_type": "code",
   "execution_count": 1,
   "id": "34c1f8f9",
   "metadata": {},
   "outputs": [],
   "source": [
    "import cv2"
   ]
  },
  {
   "cell_type": "code",
   "execution_count": 2,
   "id": "6a9486ca",
   "metadata": {},
   "outputs": [],
   "source": [
    "# içe aktarma\n",
    "img= cv2.imread(\"messi5.jpg\",0)\n",
    "# 0 ile görseli gray scale olarak içe aktarmış oluyoruz."
   ]
  },
  {
   "cell_type": "code",
   "execution_count": 3,
   "id": "19a0d38a",
   "metadata": {},
   "outputs": [],
   "source": [
    "cv2.imshow(\"ilk resim\", img)"
   ]
  },
  {
   "cell_type": "code",
   "execution_count": 4,
   "id": "108b1154",
   "metadata": {},
   "outputs": [],
   "source": [
    "k= cv2.waitKey(0) &0xFF\n",
    "# klavyeden gelecek bir komutu bekleyip daha sonra resmi açması anlamına gelmektedir bu."
   ]
  },
  {
   "cell_type": "code",
   "execution_count": 5,
   "id": "a9b119f5",
   "metadata": {},
   "outputs": [],
   "source": [
    "if k==27: # 27 klavyede ESC tuşunu temsil etmektedir bu yüzden burada eğer klavyeden gelen komut 27 ise açık olan pencelerin kapanması kodlanıyor.\n",
    "    cv2.destroyAllWindows()\n",
    "elif k== ord('s'):   # klavyeden s harfine basılınca greçekleşecek olan işlem\n",
    "    cv2.imwrite(\"messi_gray.png\", img)   # messi5 görselinin siyah beyaz hali messi_gray olarak kaydedilsin s tuşuna basılınca\n",
    "    cv2.destroyAllWİndows()              # ve açık olan tüm pencereler kapatılsın  \n",
    "    "
   ]
  },
  {
   "cell_type": "code",
   "execution_count": null,
   "id": "57c20638",
   "metadata": {},
   "outputs": [],
   "source": []
  }
 ],
 "metadata": {
  "kernelspec": {
   "display_name": "Python 3 (ipykernel)",
   "language": "python",
   "name": "python3"
  },
  "language_info": {
   "codemirror_mode": {
    "name": "ipython",
    "version": 3
   },
   "file_extension": ".py",
   "mimetype": "text/x-python",
   "name": "python",
   "nbconvert_exporter": "python",
   "pygments_lexer": "ipython3",
   "version": "3.9.7"
  }
 },
 "nbformat": 4,
 "nbformat_minor": 5
}
