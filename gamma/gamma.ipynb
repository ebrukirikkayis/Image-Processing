{
 "cells": [
  {
   "cell_type": "code",
   "execution_count": 8,
   "id": "fdb2b73f",
   "metadata": {},
   "outputs": [],
   "source": [
    "import cv2\n",
    "import numpy as np\n",
    "\n",
    "img= cv2.imread('beta.jpg',0)\n",
    "# sıfır ile siyah beyaz resim elde edildi"
   ]
  },
  {
   "cell_type": "code",
   "execution_count": 9,
   "id": "db2f8c28",
   "metadata": {},
   "outputs": [],
   "source": [
    "imgCropped= img[:433,:600]\n",
    "# görselin boyutu düzenlendi"
   ]
  },
  {
   "cell_type": "code",
   "execution_count": 10,
   "id": "72600e3f",
   "metadata": {},
   "outputs": [
    {
     "data": {
      "text/plain": [
       "True"
      ]
     },
     "execution_count": 10,
     "metadata": {},
     "output_type": "execute_result"
    }
   ],
   "source": [
    "cv2.imwrite('fish.jpg',imgCropped)\n",
    "# görsel fish ismiyle kaydedildi"
   ]
  },
  {
   "cell_type": "code",
   "execution_count": 12,
   "id": "948b67ab",
   "metadata": {},
   "outputs": [],
   "source": [
    "for gamma in [3.0,4.0,5.0]:\n",
    "    gamma_transform= np.array(255*(img/255)**gamma, dtype='uint8')\n",
    "    cv2.imwrite('gamma_transformed'+str(gamma)+'.jpg',gamma_transform)"
   ]
  }
 ],
 "metadata": {
  "kernelspec": {
   "display_name": "Python 3 (ipykernel)",
   "language": "python",
   "name": "python3"
  },
  "language_info": {
   "codemirror_mode": {
    "name": "ipython",
    "version": 3
   },
   "file_extension": ".py",
   "mimetype": "text/x-python",
   "name": "python",
   "nbconvert_exporter": "python",
   "pygments_lexer": "ipython3",
   "version": "3.9.7"
  }
 },
 "nbformat": 4,
 "nbformat_minor": 5
}
